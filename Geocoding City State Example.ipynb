{
 "cells": [
  {
   "cell_type": "markdown",
   "id": "01dd33c3",
   "metadata": {},
   "source": [
    "# Geocoding City and State"
   ]
  },
  {
   "cell_type": "markdown",
   "id": "0b36a2bb",
   "metadata": {},
   "source": [
    "### Setup and Imports"
   ]
  },
  {
   "cell_type": "code",
   "execution_count": 1,
   "id": "e26aa7da",
   "metadata": {},
   "outputs": [
    {
     "name": "stdout",
     "output_type": "stream",
     "text": [
      "Requirement already satisfied: geopy in c:\\users\\jenniferakers\\anaconda3\\lib\\site-packages (2.2.0)\n",
      "Requirement already satisfied: geographiclib<2,>=1.49 in c:\\users\\jenniferakers\\anaconda3\\lib\\site-packages (from geopy) (1.52)\n"
     ]
    }
   ],
   "source": [
    "!pip install geopy"
   ]
  },
  {
   "cell_type": "code",
   "execution_count": 2,
   "id": "ab3eab57",
   "metadata": {},
   "outputs": [
    {
     "name": "stdout",
     "output_type": "stream",
     "text": [
      "Requirement already satisfied: mysql-connector-python in c:\\users\\jenniferakers\\anaconda3\\lib\\site-packages (8.0.26)\n",
      "Requirement already satisfied: protobuf>=3.0.0 in c:\\users\\jenniferakers\\anaconda3\\lib\\site-packages (from mysql-connector-python) (3.11.2)\n",
      "Requirement already satisfied: six>=1.9 in c:\\users\\jenniferakers\\anaconda3\\lib\\site-packages (from protobuf>=3.0.0->mysql-connector-python) (1.16.0)\n",
      "Requirement already satisfied: setuptools in c:\\users\\jenniferakers\\anaconda3\\lib\\site-packages (from protobuf>=3.0.0->mysql-connector-python) (58.0.4)\n"
     ]
    }
   ],
   "source": [
    "!pip install mysql-connector-python"
   ]
  },
  {
   "cell_type": "code",
   "execution_count": 3,
   "id": "1295b027",
   "metadata": {},
   "outputs": [],
   "source": [
    "# Imports and display options\n",
    "\n",
    "import pandas as pd\n",
    "import requests\n",
    "import time\n",
    "\n",
    "from geopy.geocoders import Nominatim\n",
    "from geopy.extra.rate_limiter import RateLimiter\n",
    "\n",
    "pd.options.display.max_rows = 1000 \n",
    "pd.options.display.max_columns = 1000\n",
    "pd.options.display.max_colwidth = 1000"
   ]
  },
  {
   "cell_type": "markdown",
   "id": "85e48cc4",
   "metadata": {},
   "source": [
    "### Load Data"
   ]
  },
  {
   "cell_type": "code",
   "execution_count": 4,
   "id": "eb0b13b2",
   "metadata": {},
   "outputs": [
    {
     "name": "stdout",
     "output_type": "stream",
     "text": [
      "(10, 2)\n"
     ]
    },
    {
     "data": {
      "text/html": [
       "<div>\n",
       "<style scoped>\n",
       "    .dataframe tbody tr th:only-of-type {\n",
       "        vertical-align: middle;\n",
       "    }\n",
       "\n",
       "    .dataframe tbody tr th {\n",
       "        vertical-align: top;\n",
       "    }\n",
       "\n",
       "    .dataframe thead th {\n",
       "        text-align: right;\n",
       "    }\n",
       "</style>\n",
       "<table border=\"1\" class=\"dataframe\">\n",
       "  <thead>\n",
       "    <tr style=\"text-align: right;\">\n",
       "      <th></th>\n",
       "      <th>city</th>\n",
       "      <th>state</th>\n",
       "    </tr>\n",
       "  </thead>\n",
       "  <tbody>\n",
       "    <tr>\n",
       "      <th>0</th>\n",
       "      <td>Abbotsford</td>\n",
       "      <td>BC</td>\n",
       "    </tr>\n",
       "    <tr>\n",
       "      <th>1</th>\n",
       "      <td>Aberdeen</td>\n",
       "      <td>MD</td>\n",
       "    </tr>\n",
       "    <tr>\n",
       "      <th>2</th>\n",
       "      <td>Aberdeen</td>\n",
       "      <td>SD</td>\n",
       "    </tr>\n",
       "    <tr>\n",
       "      <th>3</th>\n",
       "      <td>Abilene</td>\n",
       "      <td>TX</td>\n",
       "    </tr>\n",
       "    <tr>\n",
       "      <th>4</th>\n",
       "      <td>Accord</td>\n",
       "      <td>NY</td>\n",
       "    </tr>\n",
       "  </tbody>\n",
       "</table>\n",
       "</div>"
      ],
      "text/plain": [
       "         city state\n",
       "0  Abbotsford    BC\n",
       "1    Aberdeen    MD\n",
       "2    Aberdeen    SD\n",
       "3     Abilene    TX\n",
       "4      Accord    NY"
      ]
     },
     "execution_count": 4,
     "metadata": {},
     "output_type": "execute_result"
    }
   ],
   "source": [
    "# Using just the first 10 rows for this example\n",
    "df = pd.read_csv('unique_city_state_example.csv', nrows=10)\n",
    "\n",
    "print(df.shape)\n",
    "df.head()"
   ]
  },
  {
   "cell_type": "markdown",
   "id": "deb12d9f",
   "metadata": {},
   "source": [
    "### Create State Name"
   ]
  },
  {
   "cell_type": "markdown",
   "id": "29db574a",
   "metadata": {},
   "source": [
    "To have a bit more information to work with, map the state abbreviation to its full name."
   ]
  },
  {
   "cell_type": "code",
   "execution_count": 5,
   "id": "1f07a02b",
   "metadata": {},
   "outputs": [],
   "source": [
    "# United States of America Python Dictionary to translate States,\n",
    "# Districts & Territories to Two-Letter codes and vice versa.\n",
    "#\n",
    "# Canonical URL: https://gist.github.com/rogerallen/1583593\n",
    "#\n",
    "# Dedicated to the public domain.  To the extent possible under law,\n",
    "# Roger Allen has waived all copyright and related or neighboring\n",
    "# rights to this code.  Data originally from Wikipedia at the url:\n",
    "# https://en.wikipedia.org/wiki/ISO_3166-2:US\n",
    "#\n",
    "# Automatically Generated 2021-09-11 18:04:36 via Jupyter Notebook from\n",
    "# https://gist.github.com/rogerallen/d75440e8e5ea4762374dfd5c1ddf84e0 \n",
    "\n",
    "# Canada has been added to Roger Allen's code to accommodate Ryadd's locations\n",
    "\n",
    "us_state_canada_province_to_abbrev = {\n",
    "    \"Alabama\": \"AL\",\n",
    "    \"Alaska\": \"AK\",\n",
    "    \"Arizona\": \"AZ\",\n",
    "    \"Arkansas\": \"AR\",\n",
    "    \"California\": \"CA\",\n",
    "    \"Colorado\": \"CO\",\n",
    "    \"Connecticut\": \"CT\",\n",
    "    \"Delaware\": \"DE\",\n",
    "    \"Florida\": \"FL\",\n",
    "    \"Georgia\": \"GA\",\n",
    "    \"Hawaii\": \"HI\",\n",
    "    \"Idaho\": \"ID\",\n",
    "    \"Illinois\": \"IL\",\n",
    "    \"Indiana\": \"IN\",\n",
    "    \"Iowa\": \"IA\",\n",
    "    \"Kansas\": \"KS\",\n",
    "    \"Kentucky\": \"KY\",\n",
    "    \"Louisiana\": \"LA\",\n",
    "    \"Maine\": \"ME\",\n",
    "    \"Maryland\": \"MD\",\n",
    "    \"Massachusetts\": \"MA\",\n",
    "    \"Michigan\": \"MI\",\n",
    "    \"Minnesota\": \"MN\",\n",
    "    \"Mississippi\": \"MS\",\n",
    "    \"Missouri\": \"MO\",\n",
    "    \"Montana\": \"MT\",\n",
    "    \"Nebraska\": \"NE\",\n",
    "    \"Nevada\": \"NV\",\n",
    "    \"New Hampshire\": \"NH\",\n",
    "    \"New Jersey\": \"NJ\",\n",
    "    \"New Mexico\": \"NM\",\n",
    "    \"New York\": \"NY\",\n",
    "    \"North Carolina\": \"NC\",\n",
    "    \"North Dakota\": \"ND\",\n",
    "    \"Ohio\": \"OH\",\n",
    "    \"Oklahoma\": \"OK\",\n",
    "    \"Oregon\": \"OR\",\n",
    "    \"Pennsylvania\": \"PA\",\n",
    "    \"Rhode Island\": \"RI\",\n",
    "    \"South Carolina\": \"SC\",\n",
    "    \"South Dakota\": \"SD\",\n",
    "    \"Tennessee\": \"TN\",\n",
    "    \"Texas\": \"TX\",\n",
    "    \"Utah\": \"UT\",\n",
    "    \"Vermont\": \"VT\",\n",
    "    \"Virginia\": \"VA\",\n",
    "    \"Washington\": \"WA\",\n",
    "    \"West Virginia\": \"WV\",\n",
    "    \"Wisconsin\": \"WI\",\n",
    "    \"Wyoming\": \"WY\",\n",
    "    \"District of Columbia\": \"DC\",\n",
    "    \"American Samoa\": \"AS\",\n",
    "    \"Guam\": \"GU\",\n",
    "    \"Northern Mariana Islands\": \"MP\",\n",
    "    \"Puerto Rico\": \"PR\",\n",
    "    \"United States Minor Outlying Islands\": \"UM\",\n",
    "    \"U.S. Virgin Islands\": \"VI\",\n",
    "    \"US Virgin Islands\": \"VI\",\n",
    "    \"Alberta\": \"AB\",\n",
    "    \"British Columbia\": \"BC\",\n",
    "    \"Manitoba\": \"MB\",\n",
    "    \"New Brunswick\": \"NB\",\n",
    "    \"Newfoundland and Labrador\": \"NL\",\n",
    "    \"Northwest Territories\": \"NT\",\n",
    "    \"Nova Scotia\": \"NS\",\n",
    "    \"Nunavut\": \"NU\",\n",
    "    \"Ontario\": \"ON\",\n",
    "    \"Prince Edward Island\": \"PE\",\n",
    "    \"Quebec\": \"QC\",\n",
    "    \"Saskatchewan\": \"SK\",\n",
    "    \"Yukon\": \"YT\",\n",
    "}\n",
    "    \n",
    "# invert the dictionary\n",
    "abbrev_us_state_canada_province = dict(map(reversed, us_state_canada_province_to_abbrev.items()))"
   ]
  },
  {
   "cell_type": "code",
   "execution_count": 6,
   "id": "02c3264c",
   "metadata": {},
   "outputs": [
    {
     "data": {
      "text/html": [
       "<div>\n",
       "<style scoped>\n",
       "    .dataframe tbody tr th:only-of-type {\n",
       "        vertical-align: middle;\n",
       "    }\n",
       "\n",
       "    .dataframe tbody tr th {\n",
       "        vertical-align: top;\n",
       "    }\n",
       "\n",
       "    .dataframe thead th {\n",
       "        text-align: right;\n",
       "    }\n",
       "</style>\n",
       "<table border=\"1\" class=\"dataframe\">\n",
       "  <thead>\n",
       "    <tr style=\"text-align: right;\">\n",
       "      <th></th>\n",
       "      <th>city</th>\n",
       "      <th>state</th>\n",
       "      <th>state_name</th>\n",
       "    </tr>\n",
       "  </thead>\n",
       "  <tbody>\n",
       "    <tr>\n",
       "      <th>0</th>\n",
       "      <td>Abbotsford</td>\n",
       "      <td>BC</td>\n",
       "      <td>British Columbia</td>\n",
       "    </tr>\n",
       "    <tr>\n",
       "      <th>1</th>\n",
       "      <td>Aberdeen</td>\n",
       "      <td>MD</td>\n",
       "      <td>Maryland</td>\n",
       "    </tr>\n",
       "    <tr>\n",
       "      <th>2</th>\n",
       "      <td>Aberdeen</td>\n",
       "      <td>SD</td>\n",
       "      <td>South Dakota</td>\n",
       "    </tr>\n",
       "    <tr>\n",
       "      <th>3</th>\n",
       "      <td>Abilene</td>\n",
       "      <td>TX</td>\n",
       "      <td>Texas</td>\n",
       "    </tr>\n",
       "    <tr>\n",
       "      <th>4</th>\n",
       "      <td>Accord</td>\n",
       "      <td>NY</td>\n",
       "      <td>New York</td>\n",
       "    </tr>\n",
       "  </tbody>\n",
       "</table>\n",
       "</div>"
      ],
      "text/plain": [
       "         city state        state_name\n",
       "0  Abbotsford    BC  British Columbia\n",
       "1    Aberdeen    MD          Maryland\n",
       "2    Aberdeen    SD      South Dakota\n",
       "3     Abilene    TX             Texas\n",
       "4      Accord    NY          New York"
      ]
     },
     "execution_count": 6,
     "metadata": {},
     "output_type": "execute_result"
    }
   ],
   "source": [
    "# Leverage the inverted dictionary to create full state name\n",
    "df['state_name'] = df['state'].apply(lambda x: abbrev_us_state_canada_province[x])\n",
    "df.head(5)"
   ]
  },
  {
   "cell_type": "markdown",
   "id": "93ceafd9",
   "metadata": {},
   "source": [
    "### Geocoding"
   ]
  },
  {
   "cell_type": "code",
   "execution_count": 7,
   "id": "65259982",
   "metadata": {},
   "outputs": [
    {
     "name": "stdout",
     "output_type": "stream",
     "text": [
      "(10, 4)\n",
      "         city        state_name  Freq                          name\n",
      "0  Abbotsford  British Columbia     1  Abbotsford, British Columbia\n"
     ]
    },
    {
     "data": {
      "text/html": [
       "<div>\n",
       "<style scoped>\n",
       "    .dataframe tbody tr th:only-of-type {\n",
       "        vertical-align: middle;\n",
       "    }\n",
       "\n",
       "    .dataframe tbody tr th {\n",
       "        vertical-align: top;\n",
       "    }\n",
       "\n",
       "    .dataframe thead th {\n",
       "        text-align: right;\n",
       "    }\n",
       "</style>\n",
       "<table border=\"1\" class=\"dataframe\">\n",
       "  <thead>\n",
       "    <tr style=\"text-align: right;\">\n",
       "      <th></th>\n",
       "      <th>city</th>\n",
       "      <th>state_name</th>\n",
       "      <th>Freq</th>\n",
       "      <th>name</th>\n",
       "      <th>point</th>\n",
       "    </tr>\n",
       "  </thead>\n",
       "  <tbody>\n",
       "    <tr>\n",
       "      <th>0</th>\n",
       "      <td>Abbotsford</td>\n",
       "      <td>British Columbia</td>\n",
       "      <td>1</td>\n",
       "      <td>Abbotsford, British Columbia</td>\n",
       "      <td>(49.0521162, -122.329479, 0.0)</td>\n",
       "    </tr>\n",
       "    <tr>\n",
       "      <th>1</th>\n",
       "      <td>Aberdeen</td>\n",
       "      <td>Maryland</td>\n",
       "      <td>1</td>\n",
       "      <td>Aberdeen, Maryland</td>\n",
       "      <td>(39.5120347, -76.1643289, 0.0)</td>\n",
       "    </tr>\n",
       "    <tr>\n",
       "      <th>2</th>\n",
       "      <td>Aberdeen</td>\n",
       "      <td>South Dakota</td>\n",
       "      <td>1</td>\n",
       "      <td>Aberdeen, South Dakota</td>\n",
       "      <td>(45.4649805, -98.487813, 0.0)</td>\n",
       "    </tr>\n",
       "    <tr>\n",
       "      <th>3</th>\n",
       "      <td>Abilene</td>\n",
       "      <td>Texas</td>\n",
       "      <td>1</td>\n",
       "      <td>Abilene, Texas</td>\n",
       "      <td>(32.44645, -99.7475905, 0.0)</td>\n",
       "    </tr>\n",
       "    <tr>\n",
       "      <th>4</th>\n",
       "      <td>Accord</td>\n",
       "      <td>New York</td>\n",
       "      <td>1</td>\n",
       "      <td>Accord, New York</td>\n",
       "      <td>(41.7979985, -74.22923853406763, 0.0)</td>\n",
       "    </tr>\n",
       "  </tbody>\n",
       "</table>\n",
       "</div>"
      ],
      "text/plain": [
       "         city        state_name  Freq                          name  \\\n",
       "0  Abbotsford  British Columbia     1  Abbotsford, British Columbia   \n",
       "1    Aberdeen          Maryland     1            Aberdeen, Maryland   \n",
       "2    Aberdeen      South Dakota     1        Aberdeen, South Dakota   \n",
       "3     Abilene             Texas     1                Abilene, Texas   \n",
       "4      Accord          New York     1              Accord, New York   \n",
       "\n",
       "                                   point  \n",
       "0         (49.0521162, -122.329479, 0.0)  \n",
       "1         (39.5120347, -76.1643289, 0.0)  \n",
       "2          (45.4649805, -98.487813, 0.0)  \n",
       "3           (32.44645, -99.7475905, 0.0)  \n",
       "4  (41.7979985, -74.22923853406763, 0.0)  "
      ]
     },
     "execution_count": 7,
     "metadata": {},
     "output_type": "execute_result"
    }
   ],
   "source": [
    "# The below will return a new dataframe with the coordinates for a city, state\n",
    "\n",
    "# To avoid excessive calls, create a dataframe that is the unique combinations of city and state name\n",
    "unique_city_states = (df\n",
    "                      .groupby(['city', \n",
    "                                'state_name'])\n",
    "                      .size()\n",
    "                      .reset_index(name='Freq')\n",
    "                     )\n",
    "\n",
    "# Create name as the combination of city and state (comma separated)\n",
    "unique_city_states['name'] = unique_city_states['city'] + \", \" + unique_city_states['state_name']\n",
    "\n",
    "# Printing output for reference\n",
    "print(unique_city_states.shape)\n",
    "print(unique_city_states.head(1))\n",
    "\n",
    "# Parameters for geocoding\n",
    "geolocator = Nominatim(user_agent=\"usertest98\")\n",
    "geocode = RateLimiter(geolocator.geocode, \n",
    "                      min_delay_seconds=2, \n",
    "                      max_retries=0)\n",
    "\n",
    "# To avoid hitting API rate limits, function to sleep between calls\n",
    "def geocode_with_delay(location_str):\n",
    "    loc = geocode(location_str)\n",
    "    time.sleep(1)\n",
    "    return tuple(loc.point) if loc else None\n",
    "\n",
    "\n",
    "# Create the lat/lon coordinates\n",
    "unique_city_states['point'] = unique_city_states['name'].apply(geocode_with_delay)\n",
    "\n",
    "unique_city_states.head(5)    "
   ]
  },
  {
   "cell_type": "code",
   "execution_count": null,
   "id": "212da2a5",
   "metadata": {},
   "outputs": [],
   "source": []
  }
 ],
 "metadata": {
  "kernelspec": {
   "display_name": "Python 3 (ipykernel)",
   "language": "python",
   "name": "python3"
  },
  "language_info": {
   "codemirror_mode": {
    "name": "ipython",
    "version": 3
   },
   "file_extension": ".py",
   "mimetype": "text/x-python",
   "name": "python",
   "nbconvert_exporter": "python",
   "pygments_lexer": "ipython3",
   "version": "3.8.10"
  }
 },
 "nbformat": 4,
 "nbformat_minor": 5
}
